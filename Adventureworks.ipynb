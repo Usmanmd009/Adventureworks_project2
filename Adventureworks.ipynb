{
 "cells": [
  {
   "cell_type": "code",
   "execution_count": 1,
   "metadata": {},
   "outputs": [],
   "source": [
    "import pandas as pd\n",
    "import numpy as np\n",
    "import datetime"
   ]
  },
  {
   "cell_type": "code",
   "execution_count": 2,
   "metadata": {},
   "outputs": [],
   "source": [
    "import sqlite3\n",
    "conn = sqlite3.connect(\"AdventureWorks.db\")\n",
    "cursor = conn.cursor()"
   ]
  },
  {
   "cell_type": "code",
   "execution_count": 3,
   "metadata": {},
   "outputs": [
    {
     "data": {
      "text/html": [
       "<div>\n",
       "<style scoped>\n",
       "    .dataframe tbody tr th:only-of-type {\n",
       "        vertical-align: middle;\n",
       "    }\n",
       "\n",
       "    .dataframe tbody tr th {\n",
       "        vertical-align: top;\n",
       "    }\n",
       "\n",
       "    .dataframe thead th {\n",
       "        text-align: right;\n",
       "    }\n",
       "</style>\n",
       "<table border=\"1\" class=\"dataframe\">\n",
       "  <thead>\n",
       "    <tr style=\"text-align: right;\">\n",
       "      <th></th>\n",
       "      <th>OrderDate</th>\n",
       "      <th>StockDate</th>\n",
       "      <th>OrderNumber</th>\n",
       "      <th>ProductKey</th>\n",
       "      <th>CustomerKey</th>\n",
       "      <th>TerritoryKey</th>\n",
       "      <th>OrderLineItem</th>\n",
       "      <th>OrderQuantity</th>\n",
       "    </tr>\n",
       "  </thead>\n",
       "  <tbody>\n",
       "    <tr>\n",
       "      <th>0</th>\n",
       "      <td>2015-01-01</td>\n",
       "      <td>2001-09-21</td>\n",
       "      <td>SO45080</td>\n",
       "      <td>332</td>\n",
       "      <td>14657</td>\n",
       "      <td>1</td>\n",
       "      <td>1</td>\n",
       "      <td>1</td>\n",
       "    </tr>\n",
       "    <tr>\n",
       "      <th>1</th>\n",
       "      <td>2015-01-01</td>\n",
       "      <td>2001-12-05</td>\n",
       "      <td>SO45079</td>\n",
       "      <td>312</td>\n",
       "      <td>29255</td>\n",
       "      <td>4</td>\n",
       "      <td>1</td>\n",
       "      <td>1</td>\n",
       "    </tr>\n",
       "    <tr>\n",
       "      <th>2</th>\n",
       "      <td>2015-01-01</td>\n",
       "      <td>2001-10-29</td>\n",
       "      <td>SO45082</td>\n",
       "      <td>350</td>\n",
       "      <td>11455</td>\n",
       "      <td>9</td>\n",
       "      <td>1</td>\n",
       "      <td>1</td>\n",
       "    </tr>\n",
       "    <tr>\n",
       "      <th>3</th>\n",
       "      <td>2015-01-01</td>\n",
       "      <td>2001-11-16</td>\n",
       "      <td>SO45081</td>\n",
       "      <td>338</td>\n",
       "      <td>26782</td>\n",
       "      <td>6</td>\n",
       "      <td>1</td>\n",
       "      <td>1</td>\n",
       "    </tr>\n",
       "    <tr>\n",
       "      <th>4</th>\n",
       "      <td>2015-01-02</td>\n",
       "      <td>2001-12-15</td>\n",
       "      <td>SO45083</td>\n",
       "      <td>312</td>\n",
       "      <td>14947</td>\n",
       "      <td>10</td>\n",
       "      <td>1</td>\n",
       "      <td>1</td>\n",
       "    </tr>\n",
       "  </tbody>\n",
       "</table>\n",
       "</div>"
      ],
      "text/plain": [
       "    OrderDate   StockDate OrderNumber  ProductKey  CustomerKey  TerritoryKey  \\\n",
       "0  2015-01-01  2001-09-21     SO45080         332        14657             1   \n",
       "1  2015-01-01  2001-12-05     SO45079         312        29255             4   \n",
       "2  2015-01-01  2001-10-29     SO45082         350        11455             9   \n",
       "3  2015-01-01  2001-11-16     SO45081         338        26782             6   \n",
       "4  2015-01-02  2001-12-15     SO45083         312        14947            10   \n",
       "\n",
       "   OrderLineItem  OrderQuantity  \n",
       "0              1              1  \n",
       "1              1              1  \n",
       "2              1              1  \n",
       "3              1              1  \n",
       "4              1              1  "
      ]
     },
     "execution_count": 3,
     "metadata": {},
     "output_type": "execute_result"
    }
   ],
   "source": [
    "query = \"select * from FactSales\"\n",
    "factsales = pd.read_sql_query(query, conn)\n",
    "factsales.head()"
   ]
  },
  {
   "cell_type": "code",
   "execution_count": 4,
   "metadata": {},
   "outputs": [
    {
     "data": {
      "text/html": [
       "<div>\n",
       "<style scoped>\n",
       "    .dataframe tbody tr th:only-of-type {\n",
       "        vertical-align: middle;\n",
       "    }\n",
       "\n",
       "    .dataframe tbody tr th {\n",
       "        vertical-align: top;\n",
       "    }\n",
       "\n",
       "    .dataframe thead th {\n",
       "        text-align: right;\n",
       "    }\n",
       "</style>\n",
       "<table border=\"1\" class=\"dataframe\">\n",
       "  <thead>\n",
       "    <tr style=\"text-align: right;\">\n",
       "      <th></th>\n",
       "      <th>CustomerKey</th>\n",
       "      <th>Prefix</th>\n",
       "      <th>FirstName</th>\n",
       "      <th>LastName</th>\n",
       "      <th>BirthDate</th>\n",
       "      <th>MaritalStatus</th>\n",
       "      <th>Gender</th>\n",
       "      <th>EmailAddress</th>\n",
       "      <th>AnnualIncome</th>\n",
       "      <th>TotalChildren</th>\n",
       "      <th>EducationLevel</th>\n",
       "      <th>Occupation</th>\n",
       "      <th>HomeOwner</th>\n",
       "    </tr>\n",
       "  </thead>\n",
       "  <tbody>\n",
       "    <tr>\n",
       "      <th>0</th>\n",
       "      <td>CustomerKey</td>\n",
       "      <td>Prefix</td>\n",
       "      <td>FirstName</td>\n",
       "      <td>LastName</td>\n",
       "      <td>BirthDate</td>\n",
       "      <td>MaritalStatus</td>\n",
       "      <td>Gender</td>\n",
       "      <td>EmailAddress</td>\n",
       "      <td>AnnualIncome</td>\n",
       "      <td>TotalChildren</td>\n",
       "      <td>EducationLevel</td>\n",
       "      <td>Occupation</td>\n",
       "      <td>HomeOwner</td>\n",
       "    </tr>\n",
       "    <tr>\n",
       "      <th>1</th>\n",
       "      <td>11000</td>\n",
       "      <td>MR.</td>\n",
       "      <td>JON</td>\n",
       "      <td>YANG</td>\n",
       "      <td>4/8/1966</td>\n",
       "      <td>M</td>\n",
       "      <td>M</td>\n",
       "      <td>jon24@adventure-works.com</td>\n",
       "      <td>$90,000</td>\n",
       "      <td>2</td>\n",
       "      <td>Bachelors</td>\n",
       "      <td>Professional</td>\n",
       "      <td>Y</td>\n",
       "    </tr>\n",
       "    <tr>\n",
       "      <th>2</th>\n",
       "      <td>11001</td>\n",
       "      <td>MR.</td>\n",
       "      <td>EUGENE</td>\n",
       "      <td>HUANG</td>\n",
       "      <td>5/14/1965</td>\n",
       "      <td>S</td>\n",
       "      <td>M</td>\n",
       "      <td>eugene10@adventure-works.com</td>\n",
       "      <td>$60,000</td>\n",
       "      <td>3</td>\n",
       "      <td>Bachelors</td>\n",
       "      <td>Professional</td>\n",
       "      <td>N</td>\n",
       "    </tr>\n",
       "    <tr>\n",
       "      <th>3</th>\n",
       "      <td>11002</td>\n",
       "      <td>MR.</td>\n",
       "      <td>RUBEN</td>\n",
       "      <td>TORRES</td>\n",
       "      <td>8/12/1965</td>\n",
       "      <td>M</td>\n",
       "      <td>M</td>\n",
       "      <td>ruben35@adventure-works.com</td>\n",
       "      <td>$60,000</td>\n",
       "      <td>3</td>\n",
       "      <td>Bachelors</td>\n",
       "      <td>Professional</td>\n",
       "      <td>Y</td>\n",
       "    </tr>\n",
       "    <tr>\n",
       "      <th>4</th>\n",
       "      <td>11003</td>\n",
       "      <td>MS.</td>\n",
       "      <td>CHRISTY</td>\n",
       "      <td>ZHU</td>\n",
       "      <td>2/15/1968</td>\n",
       "      <td>S</td>\n",
       "      <td>F</td>\n",
       "      <td>christy12@adventure-works.com</td>\n",
       "      <td>$70,000</td>\n",
       "      <td>0</td>\n",
       "      <td>Bachelors</td>\n",
       "      <td>Professional</td>\n",
       "      <td>N</td>\n",
       "    </tr>\n",
       "  </tbody>\n",
       "</table>\n",
       "</div>"
      ],
      "text/plain": [
       "   CustomerKey  Prefix  FirstName  LastName  BirthDate  MaritalStatus  Gender  \\\n",
       "0  CustomerKey  Prefix  FirstName  LastName  BirthDate  MaritalStatus  Gender   \n",
       "1        11000     MR.        JON      YANG   4/8/1966              M       M   \n",
       "2        11001     MR.     EUGENE     HUANG  5/14/1965              S       M   \n",
       "3        11002     MR.      RUBEN    TORRES  8/12/1965              M       M   \n",
       "4        11003     MS.    CHRISTY       ZHU  2/15/1968              S       F   \n",
       "\n",
       "                    EmailAddress  AnnualIncome  TotalChildren  EducationLevel  \\\n",
       "0                   EmailAddress  AnnualIncome  TotalChildren  EducationLevel   \n",
       "1      jon24@adventure-works.com       $90,000              2       Bachelors   \n",
       "2   eugene10@adventure-works.com       $60,000              3       Bachelors   \n",
       "3    ruben35@adventure-works.com       $60,000              3       Bachelors   \n",
       "4  christy12@adventure-works.com       $70,000              0       Bachelors   \n",
       "\n",
       "     Occupation  HomeOwner  \n",
       "0    Occupation  HomeOwner  \n",
       "1  Professional          Y  \n",
       "2  Professional          N  \n",
       "3  Professional          Y  \n",
       "4  Professional          N  "
      ]
     },
     "execution_count": 4,
     "metadata": {},
     "output_type": "execute_result"
    }
   ],
   "source": [
    "query = \"select * from DimCustomer\"\n",
    "customers = pd.read_sql_query(query, conn)\n",
    "customers.head()"
   ]
  },
  {
   "cell_type": "code",
   "execution_count": 5,
   "metadata": {},
   "outputs": [
    {
     "data": {
      "text/html": [
       "<div>\n",
       "<style scoped>\n",
       "    .dataframe tbody tr th:only-of-type {\n",
       "        vertical-align: middle;\n",
       "    }\n",
       "\n",
       "    .dataframe tbody tr th {\n",
       "        vertical-align: top;\n",
       "    }\n",
       "\n",
       "    .dataframe thead th {\n",
       "        text-align: right;\n",
       "    }\n",
       "</style>\n",
       "<table border=\"1\" class=\"dataframe\">\n",
       "  <thead>\n",
       "    <tr style=\"text-align: right;\">\n",
       "      <th></th>\n",
       "      <th>date</th>\n",
       "    </tr>\n",
       "  </thead>\n",
       "  <tbody>\n",
       "    <tr>\n",
       "      <th>0</th>\n",
       "      <td>01/01/2015</td>\n",
       "    </tr>\n",
       "    <tr>\n",
       "      <th>1</th>\n",
       "      <td>01/02/2015</td>\n",
       "    </tr>\n",
       "    <tr>\n",
       "      <th>2</th>\n",
       "      <td>01/03/2015</td>\n",
       "    </tr>\n",
       "    <tr>\n",
       "      <th>3</th>\n",
       "      <td>01/04/2015</td>\n",
       "    </tr>\n",
       "    <tr>\n",
       "      <th>4</th>\n",
       "      <td>01/05/2015</td>\n",
       "    </tr>\n",
       "  </tbody>\n",
       "</table>\n",
       "</div>"
      ],
      "text/plain": [
       "         date\n",
       "0  01/01/2015\n",
       "1  01/02/2015\n",
       "2  01/03/2015\n",
       "3  01/04/2015\n",
       "4  01/05/2015"
      ]
     },
     "execution_count": 5,
     "metadata": {},
     "output_type": "execute_result"
    }
   ],
   "source": [
    "query = \"select * from DimCalendar\"\n",
    "calendar = pd.read_sql_query(query, conn)\n",
    "calendar.head()"
   ]
  },
  {
   "cell_type": "code",
   "execution_count": 6,
   "metadata": {},
   "outputs": [
    {
     "data": {
      "text/html": [
       "<div>\n",
       "<style scoped>\n",
       "    .dataframe tbody tr th:only-of-type {\n",
       "        vertical-align: middle;\n",
       "    }\n",
       "\n",
       "    .dataframe tbody tr th {\n",
       "        vertical-align: top;\n",
       "    }\n",
       "\n",
       "    .dataframe thead th {\n",
       "        text-align: right;\n",
       "    }\n",
       "</style>\n",
       "<table border=\"1\" class=\"dataframe\">\n",
       "  <thead>\n",
       "    <tr style=\"text-align: right;\">\n",
       "      <th></th>\n",
       "      <th>productcategorykey</th>\n",
       "      <th>categoryname</th>\n",
       "    </tr>\n",
       "  </thead>\n",
       "  <tbody>\n",
       "    <tr>\n",
       "      <th>0</th>\n",
       "      <td>ProductCategoryKey</td>\n",
       "      <td>CategoryName</td>\n",
       "    </tr>\n",
       "    <tr>\n",
       "      <th>1</th>\n",
       "      <td>1</td>\n",
       "      <td>Bikes</td>\n",
       "    </tr>\n",
       "    <tr>\n",
       "      <th>2</th>\n",
       "      <td>2</td>\n",
       "      <td>Components</td>\n",
       "    </tr>\n",
       "    <tr>\n",
       "      <th>3</th>\n",
       "      <td>3</td>\n",
       "      <td>Clothing</td>\n",
       "    </tr>\n",
       "    <tr>\n",
       "      <th>4</th>\n",
       "      <td>4</td>\n",
       "      <td>Accessories</td>\n",
       "    </tr>\n",
       "  </tbody>\n",
       "</table>\n",
       "</div>"
      ],
      "text/plain": [
       "   productcategorykey  categoryname\n",
       "0  ProductCategoryKey  CategoryName\n",
       "1                   1         Bikes\n",
       "2                   2    Components\n",
       "3                   3      Clothing\n",
       "4                   4   Accessories"
      ]
     },
     "execution_count": 6,
     "metadata": {},
     "output_type": "execute_result"
    }
   ],
   "source": [
    "query = \"select * from DimProductCategories\"\n",
    "productcategories = pd.read_sql_query(query, conn)\n",
    "productcategories.head()"
   ]
  },
  {
   "cell_type": "code",
   "execution_count": 7,
   "metadata": {},
   "outputs": [
    {
     "data": {
      "text/html": [
       "<div>\n",
       "<style scoped>\n",
       "    .dataframe tbody tr th:only-of-type {\n",
       "        vertical-align: middle;\n",
       "    }\n",
       "\n",
       "    .dataframe tbody tr th {\n",
       "        vertical-align: top;\n",
       "    }\n",
       "\n",
       "    .dataframe thead th {\n",
       "        text-align: right;\n",
       "    }\n",
       "</style>\n",
       "<table border=\"1\" class=\"dataframe\">\n",
       "  <thead>\n",
       "    <tr style=\"text-align: right;\">\n",
       "      <th></th>\n",
       "      <th>ProductSubcategoryKey</th>\n",
       "      <th>SubcategoryName</th>\n",
       "      <th>ProductCategoryKey</th>\n",
       "    </tr>\n",
       "  </thead>\n",
       "  <tbody>\n",
       "    <tr>\n",
       "      <th>0</th>\n",
       "      <td>ProductSubcategoryKey</td>\n",
       "      <td>SubcategoryName</td>\n",
       "      <td>ProductCategoryKey</td>\n",
       "    </tr>\n",
       "    <tr>\n",
       "      <th>1</th>\n",
       "      <td>1</td>\n",
       "      <td>Mountain Bikes</td>\n",
       "      <td>1</td>\n",
       "    </tr>\n",
       "    <tr>\n",
       "      <th>2</th>\n",
       "      <td>2</td>\n",
       "      <td>Road Bikes</td>\n",
       "      <td>1</td>\n",
       "    </tr>\n",
       "    <tr>\n",
       "      <th>3</th>\n",
       "      <td>3</td>\n",
       "      <td>Touring Bikes</td>\n",
       "      <td>1</td>\n",
       "    </tr>\n",
       "    <tr>\n",
       "      <th>4</th>\n",
       "      <td>4</td>\n",
       "      <td>Handlebars</td>\n",
       "      <td>2</td>\n",
       "    </tr>\n",
       "  </tbody>\n",
       "</table>\n",
       "</div>"
      ],
      "text/plain": [
       "   ProductSubcategoryKey  SubcategoryName  ProductCategoryKey\n",
       "0  ProductSubcategoryKey  SubcategoryName  ProductCategoryKey\n",
       "1                      1   Mountain Bikes                   1\n",
       "2                      2       Road Bikes                   1\n",
       "3                      3    Touring Bikes                   1\n",
       "4                      4       Handlebars                   2"
      ]
     },
     "execution_count": 7,
     "metadata": {},
     "output_type": "execute_result"
    }
   ],
   "source": [
    "query = \"select * from DimProduct_Subcategories\"\n",
    "product_subcategories = pd.read_sql_query(query, conn)\n",
    "product_subcategories.head()"
   ]
  },
  {
   "cell_type": "code",
   "execution_count": 8,
   "metadata": {},
   "outputs": [
    {
     "data": {
      "text/html": [
       "<div>\n",
       "<style scoped>\n",
       "    .dataframe tbody tr th:only-of-type {\n",
       "        vertical-align: middle;\n",
       "    }\n",
       "\n",
       "    .dataframe tbody tr th {\n",
       "        vertical-align: top;\n",
       "    }\n",
       "\n",
       "    .dataframe thead th {\n",
       "        text-align: right;\n",
       "    }\n",
       "</style>\n",
       "<table border=\"1\" class=\"dataframe\">\n",
       "  <thead>\n",
       "    <tr style=\"text-align: right;\">\n",
       "      <th></th>\n",
       "      <th>ProductKey</th>\n",
       "      <th>ProductSubcategoryKey</th>\n",
       "      <th>ProductSKU</th>\n",
       "      <th>ProductName</th>\n",
       "      <th>ModelName</th>\n",
       "      <th>ProductDescription</th>\n",
       "      <th>ProductColor</th>\n",
       "      <th>ProductSize</th>\n",
       "      <th>ProductStyle</th>\n",
       "      <th>ProductCost</th>\n",
       "      <th>ProductPrice</th>\n",
       "    </tr>\n",
       "  </thead>\n",
       "  <tbody>\n",
       "    <tr>\n",
       "      <th>0</th>\n",
       "      <td>214</td>\n",
       "      <td>31</td>\n",
       "      <td>HL-U509-R</td>\n",
       "      <td>Sport-100 Helmet, Red</td>\n",
       "      <td>Sport-100</td>\n",
       "      <td>Universal fit, well-vented, lightweight , snap...</td>\n",
       "      <td>Red</td>\n",
       "      <td>0</td>\n",
       "      <td>0</td>\n",
       "      <td>13.0863</td>\n",
       "      <td>34.9900</td>\n",
       "    </tr>\n",
       "    <tr>\n",
       "      <th>1</th>\n",
       "      <td>215</td>\n",
       "      <td>31</td>\n",
       "      <td>HL-U509</td>\n",
       "      <td>Sport-100 Helmet, Black</td>\n",
       "      <td>Sport-100</td>\n",
       "      <td>Universal fit, well-vented, lightweight , snap...</td>\n",
       "      <td>Black</td>\n",
       "      <td>0</td>\n",
       "      <td>0</td>\n",
       "      <td>12.0278</td>\n",
       "      <td>33.6442</td>\n",
       "    </tr>\n",
       "    <tr>\n",
       "      <th>2</th>\n",
       "      <td>218</td>\n",
       "      <td>23</td>\n",
       "      <td>SO-B909-M</td>\n",
       "      <td>Mountain Bike Socks, M</td>\n",
       "      <td>Mountain Bike Socks</td>\n",
       "      <td>Combination of natural and synthetic fibers st...</td>\n",
       "      <td>White</td>\n",
       "      <td>M</td>\n",
       "      <td>U</td>\n",
       "      <td>3.3963</td>\n",
       "      <td>9.5000</td>\n",
       "    </tr>\n",
       "    <tr>\n",
       "      <th>3</th>\n",
       "      <td>219</td>\n",
       "      <td>23</td>\n",
       "      <td>SO-B909-L</td>\n",
       "      <td>Mountain Bike Socks, L</td>\n",
       "      <td>Mountain Bike Socks</td>\n",
       "      <td>Combination of natural and synthetic fibers st...</td>\n",
       "      <td>White</td>\n",
       "      <td>L</td>\n",
       "      <td>U</td>\n",
       "      <td>3.3963</td>\n",
       "      <td>9.5000</td>\n",
       "    </tr>\n",
       "    <tr>\n",
       "      <th>4</th>\n",
       "      <td>220</td>\n",
       "      <td>31</td>\n",
       "      <td>HL-U509-B</td>\n",
       "      <td>Sport-100 Helmet, Blue</td>\n",
       "      <td>Sport-100</td>\n",
       "      <td>Universal fit, well-vented, lightweight , snap...</td>\n",
       "      <td>Blue</td>\n",
       "      <td>0</td>\n",
       "      <td>0</td>\n",
       "      <td>12.0278</td>\n",
       "      <td>33.6442</td>\n",
       "    </tr>\n",
       "  </tbody>\n",
       "</table>\n",
       "</div>"
      ],
      "text/plain": [
       "   ProductKey  ProductSubcategoryKey ProductSKU              ProductName  \\\n",
       "0         214                     31  HL-U509-R    Sport-100 Helmet, Red   \n",
       "1         215                     31    HL-U509  Sport-100 Helmet, Black   \n",
       "2         218                     23  SO-B909-M   Mountain Bike Socks, M   \n",
       "3         219                     23  SO-B909-L   Mountain Bike Socks, L   \n",
       "4         220                     31  HL-U509-B   Sport-100 Helmet, Blue   \n",
       "\n",
       "             ModelName                                 ProductDescription  \\\n",
       "0            Sport-100  Universal fit, well-vented, lightweight , snap...   \n",
       "1            Sport-100  Universal fit, well-vented, lightweight , snap...   \n",
       "2  Mountain Bike Socks  Combination of natural and synthetic fibers st...   \n",
       "3  Mountain Bike Socks  Combination of natural and synthetic fibers st...   \n",
       "4            Sport-100  Universal fit, well-vented, lightweight , snap...   \n",
       "\n",
       "  ProductColor ProductSize ProductStyle  ProductCost  ProductPrice  \n",
       "0          Red           0            0      13.0863       34.9900  \n",
       "1        Black           0            0      12.0278       33.6442  \n",
       "2        White           M            U       3.3963        9.5000  \n",
       "3        White           L            U       3.3963        9.5000  \n",
       "4         Blue           0            0      12.0278       33.6442  "
      ]
     },
     "execution_count": 8,
     "metadata": {},
     "output_type": "execute_result"
    }
   ],
   "source": [
    "query = \"select * from DimProducts\"\n",
    "products = pd.read_sql_query(query, conn)\n",
    "products.head()"
   ]
  },
  {
   "cell_type": "code",
   "execution_count": 9,
   "metadata": {},
   "outputs": [
    {
     "data": {
      "text/html": [
       "<div>\n",
       "<style scoped>\n",
       "    .dataframe tbody tr th:only-of-type {\n",
       "        vertical-align: middle;\n",
       "    }\n",
       "\n",
       "    .dataframe tbody tr th {\n",
       "        vertical-align: top;\n",
       "    }\n",
       "\n",
       "    .dataframe thead th {\n",
       "        text-align: right;\n",
       "    }\n",
       "</style>\n",
       "<table border=\"1\" class=\"dataframe\">\n",
       "  <thead>\n",
       "    <tr style=\"text-align: right;\">\n",
       "      <th></th>\n",
       "      <th>SalesTerritoryKey</th>\n",
       "      <th>Region</th>\n",
       "      <th>Country</th>\n",
       "      <th>Continent</th>\n",
       "    </tr>\n",
       "  </thead>\n",
       "  <tbody>\n",
       "    <tr>\n",
       "      <th>0</th>\n",
       "      <td>1</td>\n",
       "      <td>Northwest</td>\n",
       "      <td>United States</td>\n",
       "      <td>North America</td>\n",
       "    </tr>\n",
       "    <tr>\n",
       "      <th>1</th>\n",
       "      <td>2</td>\n",
       "      <td>Northeast</td>\n",
       "      <td>United States</td>\n",
       "      <td>North America</td>\n",
       "    </tr>\n",
       "    <tr>\n",
       "      <th>2</th>\n",
       "      <td>3</td>\n",
       "      <td>Central</td>\n",
       "      <td>United States</td>\n",
       "      <td>North America</td>\n",
       "    </tr>\n",
       "    <tr>\n",
       "      <th>3</th>\n",
       "      <td>4</td>\n",
       "      <td>Southwest</td>\n",
       "      <td>United States</td>\n",
       "      <td>North America</td>\n",
       "    </tr>\n",
       "    <tr>\n",
       "      <th>4</th>\n",
       "      <td>5</td>\n",
       "      <td>Southeast</td>\n",
       "      <td>United States</td>\n",
       "      <td>North America</td>\n",
       "    </tr>\n",
       "  </tbody>\n",
       "</table>\n",
       "</div>"
      ],
      "text/plain": [
       "   SalesTerritoryKey     Region        Country      Continent\n",
       "0                  1  Northwest  United States  North America\n",
       "1                  2  Northeast  United States  North America\n",
       "2                  3    Central  United States  North America\n",
       "3                  4  Southwest  United States  North America\n",
       "4                  5  Southeast  United States  North America"
      ]
     },
     "execution_count": 9,
     "metadata": {},
     "output_type": "execute_result"
    }
   ],
   "source": [
    "query = \"select * from DimTerritories\"\n",
    "territories = pd.read_sql_query(query, conn)\n",
    "territories.head()"
   ]
  },
  {
   "cell_type": "code",
   "execution_count": 10,
   "metadata": {},
   "outputs": [
    {
     "data": {
      "text/html": [
       "<div>\n",
       "<style scoped>\n",
       "    .dataframe tbody tr th:only-of-type {\n",
       "        vertical-align: middle;\n",
       "    }\n",
       "\n",
       "    .dataframe tbody tr th {\n",
       "        vertical-align: top;\n",
       "    }\n",
       "\n",
       "    .dataframe thead th {\n",
       "        text-align: right;\n",
       "    }\n",
       "</style>\n",
       "<table border=\"1\" class=\"dataframe\">\n",
       "  <thead>\n",
       "    <tr style=\"text-align: right;\">\n",
       "      <th></th>\n",
       "      <th>ReturnDate</th>\n",
       "      <th>TerritoryKey</th>\n",
       "      <th>ProductKey</th>\n",
       "      <th>ReturnQuantity</th>\n",
       "    </tr>\n",
       "  </thead>\n",
       "  <tbody>\n",
       "    <tr>\n",
       "      <th>0</th>\n",
       "      <td>2015-01-18</td>\n",
       "      <td>9</td>\n",
       "      <td>312</td>\n",
       "      <td>1</td>\n",
       "    </tr>\n",
       "    <tr>\n",
       "      <th>1</th>\n",
       "      <td>2015-01-18</td>\n",
       "      <td>10</td>\n",
       "      <td>310</td>\n",
       "      <td>1</td>\n",
       "    </tr>\n",
       "    <tr>\n",
       "      <th>2</th>\n",
       "      <td>2015-01-21</td>\n",
       "      <td>8</td>\n",
       "      <td>346</td>\n",
       "      <td>1</td>\n",
       "    </tr>\n",
       "    <tr>\n",
       "      <th>3</th>\n",
       "      <td>2015-01-22</td>\n",
       "      <td>4</td>\n",
       "      <td>311</td>\n",
       "      <td>1</td>\n",
       "    </tr>\n",
       "    <tr>\n",
       "      <th>4</th>\n",
       "      <td>2015-02-02</td>\n",
       "      <td>6</td>\n",
       "      <td>312</td>\n",
       "      <td>1</td>\n",
       "    </tr>\n",
       "  </tbody>\n",
       "</table>\n",
       "</div>"
      ],
      "text/plain": [
       "   ReturnDate  TerritoryKey  ProductKey  ReturnQuantity\n",
       "0  2015-01-18             9         312               1\n",
       "1  2015-01-18            10         310               1\n",
       "2  2015-01-21             8         346               1\n",
       "3  2015-01-22             4         311               1\n",
       "4  2015-02-02             6         312               1"
      ]
     },
     "execution_count": 10,
     "metadata": {},
     "output_type": "execute_result"
    }
   ],
   "source": [
    "query = \"select * from FactReturns\"\n",
    "returns = pd.read_sql_query(query, conn)\n",
    "returns.head()"
   ]
  },
  {
   "cell_type": "code",
   "execution_count": 11,
   "metadata": {},
   "outputs": [
    {
     "data": {
      "text/plain": [
       "OrderDate        0\n",
       "StockDate        0\n",
       "OrderNumber      0\n",
       "ProductKey       0\n",
       "CustomerKey      0\n",
       "TerritoryKey     0\n",
       "OrderLineItem    0\n",
       "OrderQuantity    0\n",
       "dtype: int64"
      ]
     },
     "execution_count": 11,
     "metadata": {},
     "output_type": "execute_result"
    }
   ],
   "source": [
    "factsales.isnull().sum()\n"
   ]
  },
  {
   "cell_type": "code",
   "execution_count": 12,
   "metadata": {},
   "outputs": [
    {
     "name": "stdout",
     "output_type": "stream",
     "text": [
      "<class 'pandas.core.frame.DataFrame'>\n",
      "RangeIndex: 56046 entries, 0 to 56045\n",
      "Data columns (total 8 columns):\n",
      " #   Column         Non-Null Count  Dtype \n",
      "---  ------         --------------  ----- \n",
      " 0   OrderDate      56046 non-null  object\n",
      " 1   StockDate      56046 non-null  object\n",
      " 2   OrderNumber    56046 non-null  object\n",
      " 3   ProductKey     56046 non-null  int64 \n",
      " 4   CustomerKey    56046 non-null  int64 \n",
      " 5   TerritoryKey   56046 non-null  int64 \n",
      " 6   OrderLineItem  56046 non-null  int64 \n",
      " 7   OrderQuantity  56046 non-null  int64 \n",
      "dtypes: int64(5), object(3)\n",
      "memory usage: 3.4+ MB\n"
     ]
    }
   ],
   "source": [
    "factsales.info()"
   ]
  },
  {
   "cell_type": "code",
   "execution_count": 13,
   "metadata": {},
   "outputs": [],
   "source": [
    "# Conversion of Orderdate column to date data type \n",
    "factsales['OrderDate'] = pd.to_datetime(factsales['OrderDate'])\n"
   ]
  },
  {
   "cell_type": "code",
   "execution_count": 14,
   "metadata": {},
   "outputs": [],
   "source": [
    "# Conversion of stockdate column to date data type \n",
    "factsales['StockDate'] = pd.to_datetime(factsales['StockDate'])"
   ]
  },
  {
   "cell_type": "code",
   "execution_count": 15,
   "metadata": {},
   "outputs": [
    {
     "name": "stdout",
     "output_type": "stream",
     "text": [
      "<class 'pandas.core.frame.DataFrame'>\n",
      "RangeIndex: 56046 entries, 0 to 56045\n",
      "Data columns (total 8 columns):\n",
      " #   Column         Non-Null Count  Dtype         \n",
      "---  ------         --------------  -----         \n",
      " 0   OrderDate      56046 non-null  datetime64[ns]\n",
      " 1   StockDate      56046 non-null  datetime64[ns]\n",
      " 2   OrderNumber    56046 non-null  object        \n",
      " 3   ProductKey     56046 non-null  int64         \n",
      " 4   CustomerKey    56046 non-null  int64         \n",
      " 5   TerritoryKey   56046 non-null  int64         \n",
      " 6   OrderLineItem  56046 non-null  int64         \n",
      " 7   OrderQuantity  56046 non-null  int64         \n",
      "dtypes: datetime64[ns](2), int64(5), object(1)\n",
      "memory usage: 3.4+ MB\n"
     ]
    }
   ],
   "source": [
    "factsales.info()"
   ]
  },
  {
   "cell_type": "code",
   "execution_count": 16,
   "metadata": {},
   "outputs": [
    {
     "name": "stdout",
     "output_type": "stream",
     "text": [
      "<class 'pandas.core.frame.DataFrame'>\n",
      "RangeIndex: 18149 entries, 0 to 18148\n",
      "Data columns (total 13 columns):\n",
      " #   Column          Non-Null Count  Dtype \n",
      "---  ------          --------------  ----- \n",
      " 0   CustomerKey     18149 non-null  object\n",
      " 1   Prefix          18019 non-null  object\n",
      " 2   FirstName       18149 non-null  object\n",
      " 3   LastName        18149 non-null  object\n",
      " 4   BirthDate       18149 non-null  object\n",
      " 5   MaritalStatus   18149 non-null  object\n",
      " 6   Gender          18149 non-null  object\n",
      " 7   EmailAddress    18149 non-null  object\n",
      " 8   AnnualIncome    18149 non-null  object\n",
      " 9   TotalChildren   18149 non-null  object\n",
      " 10  EducationLevel  18149 non-null  object\n",
      " 11  Occupation      18149 non-null  object\n",
      " 12  HomeOwner       18149 non-null  object\n",
      "dtypes: object(13)\n",
      "memory usage: 1.8+ MB\n"
     ]
    }
   ],
   "source": [
    "customers.info()"
   ]
  },
  {
   "cell_type": "code",
   "execution_count": 20,
   "metadata": {},
   "outputs": [],
   "source": [
    "# Replacing Null in prefix to mr \n",
    "customers['Prefix'] = customers['Prefix'].fillna('Mr')"
   ]
  },
  {
   "cell_type": "code",
   "execution_count": 26,
   "metadata": {},
   "outputs": [
    {
     "data": {
      "text/plain": [
       "CustomerKey       0\n",
       "Prefix            0\n",
       "FirstName         0\n",
       "LastName          0\n",
       "BirthDate         0\n",
       "MaritalStatus     0\n",
       "Gender            0\n",
       "EmailAddress      0\n",
       "AnnualIncome      0\n",
       "TotalChildren     0\n",
       "EducationLevel    0\n",
       "Occupation        0\n",
       "HomeOwner         0\n",
       "dtype: int64"
      ]
     },
     "execution_count": 26,
     "metadata": {},
     "output_type": "execute_result"
    }
   ],
   "source": [
    "customers.isnull().sum()"
   ]
  },
  {
   "cell_type": "code",
   "execution_count": 22,
   "metadata": {},
   "outputs": [
    {
     "name": "stdout",
     "output_type": "stream",
     "text": [
      "<class 'pandas.core.frame.DataFrame'>\n",
      "RangeIndex: 912 entries, 0 to 911\n",
      "Data columns (total 1 columns):\n",
      " #   Column  Non-Null Count  Dtype \n",
      "---  ------  --------------  ----- \n",
      " 0   date    912 non-null    object\n",
      "dtypes: object(1)\n",
      "memory usage: 7.3+ KB\n"
     ]
    }
   ],
   "source": [
    "calendar.info()\n"
   ]
  },
  {
   "cell_type": "code",
   "execution_count": 23,
   "metadata": {},
   "outputs": [
    {
     "data": {
      "text/plain": [
       "date    0\n",
       "dtype: int64"
      ]
     },
     "execution_count": 23,
     "metadata": {},
     "output_type": "execute_result"
    }
   ],
   "source": [
    "# this table is clean with no null values \n",
    "calendar.isnull().sum()\n"
   ]
  },
  {
   "cell_type": "code",
   "execution_count": 27,
   "metadata": {},
   "outputs": [
    {
     "data": {
      "text/plain": [
       "productcategorykey    0\n",
       "categoryname          0\n",
       "dtype: int64"
      ]
     },
     "execution_count": 27,
     "metadata": {},
     "output_type": "execute_result"
    }
   ],
   "source": [
    "# this table is clean with no null values \n",
    "productcategories.isnull().sum()"
   ]
  },
  {
   "cell_type": "code",
   "execution_count": 28,
   "metadata": {},
   "outputs": [
    {
     "data": {
      "text/plain": [
       "ProductSubcategoryKey    0\n",
       "SubcategoryName          0\n",
       "ProductCategoryKey       0\n",
       "dtype: int64"
      ]
     },
     "execution_count": 28,
     "metadata": {},
     "output_type": "execute_result"
    }
   ],
   "source": [
    "# this table is clean with no null values \n",
    "product_subcategories.isnull().sum()"
   ]
  },
  {
   "cell_type": "code",
   "execution_count": 29,
   "metadata": {},
   "outputs": [
    {
     "data": {
      "text/plain": [
       "ProductKey               0\n",
       "ProductSubcategoryKey    0\n",
       "ProductSKU               0\n",
       "ProductName              0\n",
       "ModelName                0\n",
       "ProductDescription       0\n",
       "ProductColor             0\n",
       "ProductSize              0\n",
       "ProductStyle             0\n",
       "ProductCost              0\n",
       "ProductPrice             0\n",
       "dtype: int64"
      ]
     },
     "execution_count": 29,
     "metadata": {},
     "output_type": "execute_result"
    }
   ],
   "source": [
    "# this table is clean with no null values \n",
    "products.isnull().sum()"
   ]
  },
  {
   "cell_type": "code",
   "execution_count": 30,
   "metadata": {},
   "outputs": [
    {
     "data": {
      "text/plain": [
       "SalesTerritoryKey    0\n",
       "Region               0\n",
       "Country              0\n",
       "Continent            0\n",
       "dtype: int64"
      ]
     },
     "execution_count": 30,
     "metadata": {},
     "output_type": "execute_result"
    }
   ],
   "source": [
    "# this table is clean with no null values \n",
    "territories.isnull().sum()"
   ]
  },
  {
   "cell_type": "code",
   "execution_count": 31,
   "metadata": {},
   "outputs": [
    {
     "data": {
      "text/plain": [
       "ReturnDate        0\n",
       "TerritoryKey      0\n",
       "ProductKey        0\n",
       "ReturnQuantity    0\n",
       "dtype: int64"
      ]
     },
     "execution_count": 31,
     "metadata": {},
     "output_type": "execute_result"
    }
   ],
   "source": [
    "# this table is clean with no null values \n",
    "returns.isnull().sum()"
   ]
  }
 ],
 "metadata": {
  "kernelspec": {
   "display_name": "base",
   "language": "python",
   "name": "python3"
  },
  "language_info": {
   "codemirror_mode": {
    "name": "ipython",
    "version": 3
   },
   "file_extension": ".py",
   "mimetype": "text/x-python",
   "name": "python",
   "nbconvert_exporter": "python",
   "pygments_lexer": "ipython3",
   "version": "3.12.4"
  }
 },
 "nbformat": 4,
 "nbformat_minor": 2
}
